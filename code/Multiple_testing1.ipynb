{
 "cells": [
  {
   "cell_type": "markdown",
   "metadata": {},
   "source": [
    "## Comparing the three\n",
    "https://www.stat.berkeley.edu/~mgoldman/Section0402.pdf"
   ]
  },
  {
   "cell_type": "raw",
   "metadata": {},
   "source": [
    "(1)The first 900 entries are random numbers with a standard normal distribution. \n",
    "(2)The last 100 are random numbers from a normal distribution with mean 3 andsd 1."
   ]
  },
  {
   "cell_type": "code",
   "execution_count": 3,
   "metadata": {},
   "outputs": [],
   "source": [
    "x <- c(rnorm(900), rnorm(100, mean=3))"
   ]
  },
  {
   "cell_type": "raw",
   "metadata": {},
   "source": [
    "The second line of code is finding the p-values for a hypothesis test on each value of x. \n",
    "(1)The hypothesis being tested is that the value of x is not different from 0, given the entries are drawn from a standard normal distribution. \n",
    "(2)The alternate is a one-sided test, claiming that the value is larger than 0."
   ]
  },
  {
   "cell_type": "code",
   "execution_count": 5,
   "metadata": {},
   "outputs": [],
   "source": [
    "p <- pnorm(x, lower.tail=F)"
   ]
  },
  {
   "cell_type": "raw",
   "metadata": {},
   "source": [
    "Now, in this case we know the truth: \n",
    "(1)The first 900 observations should fail to reject the null hypothesis: they are, in fact, drawn from a standard normal distribution and any difference between the observed value and 0 is just due to chance. \n",
    "(2)The last 100 observations should reject the null hypothesis: the difference between these values and 0 is not due to chance alone."
   ]
  },
  {
   "cell_type": "markdown",
   "metadata": {},
   "source": [
    "## No corrections"
   ]
  },
  {
   "cell_type": "code",
   "execution_count": 8,
   "metadata": {},
   "outputs": [
    {
     "data": {
      "text/plain": [
       "   Mode   FALSE    TRUE \n",
       "logical      50     850 "
      ]
     },
     "metadata": {},
     "output_type": "display_data"
    },
    {
     "data": {
      "text/plain": [
       "   Mode   FALSE    TRUE \n",
       "logical      92       8 "
      ]
     },
     "metadata": {},
     "output_type": "display_data"
    }
   ],
   "source": [
    "test <- p > 0.05\n",
    "summary(test[1:900])\n",
    "summary(test[901:1000])"
   ]
  },
  {
   "cell_type": "raw",
   "metadata": {},
   "source": [
    "False positive (Type I error rate) = 50/900 = 0.055, close to 0.05\n",
    "False negative (Type II error rate) = 8/100 = 0.08"
   ]
  },
  {
   "cell_type": "markdown",
   "metadata": {},
   "source": [
    "## Bonferroni correction"
   ]
  },
  {
   "cell_type": "code",
   "execution_count": 11,
   "metadata": {},
   "outputs": [
    {
     "data": {
      "text/plain": [
       "   Mode    TRUE \n",
       "logical     900 "
      ]
     },
     "metadata": {},
     "output_type": "display_data"
    },
    {
     "data": {
      "text/plain": [
       "   Mode   FALSE    TRUE \n",
       "logical      22      78 "
      ]
     },
     "metadata": {},
     "output_type": "display_data"
    }
   ],
   "source": [
    "bonftest <- p > 0.00005\n",
    "summary(bonftest[1:900])\n",
    "summary(bonftest[901:1000])"
   ]
  },
  {
   "cell_type": "raw",
   "metadata": {},
   "source": [
    "False positive (Type I error rate) = 0/900 = 0\n",
    "False negative (Type II error rate) = 78/100 = 0.78\n",
    "\n",
    "\n",
    "We’ve reduced our false positives at the expense of false negatives. Ask yourself: which is worse? False positives or false negatives? Note: there isn’t a firm answer. It really depends on the context of the problem and the consequences of each type of error."
   ]
  },
  {
   "cell_type": "markdown",
   "metadata": {},
   "source": [
    "## FDR\n",
    "\n",
    "For the FDR, we want to consider the ordered p-values. We’ll see if the kth ordered p-value is larger than k×.05/1000 ."
   ]
  },
  {
   "cell_type": "code",
   "execution_count": 13,
   "metadata": {},
   "outputs": [],
   "source": [
    "psort <- sort(p)\n",
    "fdrtest <- NULL\n",
    "for (i in 1:1000)\n",
    "    fdrtest <- c(fdrtest, p[i] > match(p[i], psort)*0.05/1000)"
   ]
  },
  {
   "cell_type": "markdown",
   "metadata": {},
   "source": [
    "### Example"
   ]
  },
  {
   "cell_type": "code",
   "execution_count": 14,
   "metadata": {},
   "outputs": [
    {
     "data": {
      "text/html": [
       "TRUE"
      ],
      "text/latex": [
       "TRUE"
      ],
      "text/markdown": [
       "TRUE"
      ],
      "text/plain": [
       "[1] TRUE"
      ]
     },
     "metadata": {},
     "output_type": "display_data"
    }
   ],
   "source": [
    "p[1] > match(p[1], psort) * 0.05/1000"
   ]
  },
  {
   "cell_type": "code",
   "execution_count": 17,
   "metadata": {},
   "outputs": [
    {
     "data": {
      "text/html": [
       "0.339896838305036"
      ],
      "text/latex": [
       "0.339896838305036"
      ],
      "text/markdown": [
       "0.339896838305036"
      ],
      "text/plain": [
       "[1] 0.3398968"
      ]
     },
     "metadata": {},
     "output_type": "display_data"
    }
   ],
   "source": [
    "p[1] "
   ]
  },
  {
   "cell_type": "code",
   "execution_count": 18,
   "metadata": {},
   "outputs": [
    {
     "data": {
      "text/html": [
       "419"
      ],
      "text/latex": [
       "419"
      ],
      "text/markdown": [
       "419"
      ],
      "text/plain": [
       "[1] 419"
      ]
     },
     "metadata": {},
     "output_type": "display_data"
    }
   ],
   "source": [
    "match(p[1], psort) "
   ]
  },
  {
   "cell_type": "code",
   "execution_count": 19,
   "metadata": {},
   "outputs": [
    {
     "data": {
      "text/html": [
       "0.02095"
      ],
      "text/latex": [
       "0.02095"
      ],
      "text/markdown": [
       "0.02095"
      ],
      "text/plain": [
       "[1] 0.02095"
      ]
     },
     "metadata": {},
     "output_type": "display_data"
    }
   ],
   "source": [
    "match(p[1], psort) * 0.05/1000"
   ]
  },
  {
   "cell_type": "code",
   "execution_count": 20,
   "metadata": {},
   "outputs": [
    {
     "data": {
      "text/plain": [
       "   Mode   FALSE    TRUE \n",
       "logical       4     896 "
      ]
     },
     "metadata": {},
     "output_type": "display_data"
    },
    {
     "data": {
      "text/plain": [
       "   Mode   FALSE    TRUE \n",
       "logical      63      37 "
      ]
     },
     "metadata": {},
     "output_type": "display_data"
    }
   ],
   "source": [
    "summary(fdrtest[1:900])\n",
    "summary(fdrtest[901:1000])"
   ]
  },
  {
   "cell_type": "raw",
   "metadata": {},
   "source": [
    "False positive (Type I error rate) = 4/900 = 0.0044\n",
    "False negative (Type II error rate) = 37/100 = 0.37\n",
    "\n",
    "A big improvement over the Bonferroni correction!"
   ]
  },
  {
   "cell_type": "markdown",
   "metadata": {},
   "source": [
    "## pFDR"
   ]
  },
  {
   "cell_type": "code",
   "execution_count": 28,
   "metadata": {},
   "outputs": [
    {
     "name": "stdout",
     "output_type": "stream",
     "text": [
      "\n",
      "The downloaded binary packages are in\n",
      "\t/var/folders/9v/8wcb_tps7911vctskw8bwqfw0000gp/T//RtmpH4Y50m/downloaded_packages\n"
     ]
    },
    {
     "name": "stderr",
     "output_type": "stream",
     "text": [
      "Bioconductor version 3.10 (BiocManager 1.30.10), R 3.6.1 (2019-07-05)\n",
      "\n",
      "Installing package(s) 'BiocVersion', 'qvalue'\n",
      "\n"
     ]
    },
    {
     "name": "stdout",
     "output_type": "stream",
     "text": [
      "\n",
      "The downloaded binary packages are in\n",
      "\t/var/folders/9v/8wcb_tps7911vctskw8bwqfw0000gp/T//RtmpH4Y50m/downloaded_packages\n"
     ]
    },
    {
     "name": "stderr",
     "output_type": "stream",
     "text": [
      "Old packages: 'astsa', 'backports', 'BH', 'boot', 'broom', 'callr', 'caTools',\n",
      "  'class', 'cli', 'clipr', 'cluster', 'codetools', 'colorspace', 'cpp11',\n",
      "  'crayon', 'crosstalk', 'data.table', 'DBI', 'desc', 'digest', 'dplyr', 'DT',\n",
      "  'e1071', 'fansi', 'farver', 'fastmap', 'forcats', 'foreach', 'Formula',\n",
      "  'geepack', 'generics', 'ggplot2', 'gh', 'git2r', 'gplots', 'hms',\n",
      "  'htmltools', 'htmlwidgets', 'httpuv', 'ipred', 'IRdisplay', 'isoband',\n",
      "  'iterators', 'jsonlite', 'KernSmooth', 'knitr', 'labeling', 'labelled',\n",
      "  'lava', 'lifecycle', 'lme4', 'lubridate', 'magrittr', 'MASS', 'MatchIt',\n",
      "  'Matrix', 'MatrixModels', 'matrixStats', 'memoise', 'mgcv', 'mime', 'nlme',\n",
      "  'nnet', 'openxlsx', 'pbdZMQ', 'pbkrtest', 'pillar', 'pkgbuild', 'pkgload',\n",
      "  'pROC', 'processx', 'promises', 'ps', 'quantmod', 'quantreg', 'R6', 'Rcpp',\n",
      "  'RcppArmadillo', 'RcppEigen', 'recipes', 'repr', 'rio', 'rlang', 'rmarkdown',\n",
      "  'rprojroot', 'rstudioapi', 'shiny', 'sp', 'SparseM', 'spatial', 'SQUAREM',\n",
      "  'standardize', 'statmod', 'testthat', 'tibble', 'tidyr', 'tinytex', 'tufte',\n",
      "  'usethis', 'vctrs', 'withr', 'xfun', 'zoo'\n",
      "\n"
     ]
    }
   ],
   "source": [
    "if (!requireNamespace(\"BiocManager\", quietly = TRUE))\n",
    "    install.packages(\"BiocManager\")\n",
    "\n",
    "BiocManager::install(\"qvalue\")"
   ]
  },
  {
   "cell_type": "code",
   "execution_count": 29,
   "metadata": {},
   "outputs": [],
   "source": [
    "library(qvalue)"
   ]
  },
  {
   "cell_type": "code",
   "execution_count": 30,
   "metadata": {},
   "outputs": [],
   "source": [
    "pfdrtest <- qvalue(p)$qvalues >0.05"
   ]
  },
  {
   "cell_type": "code",
   "execution_count": 31,
   "metadata": {
    "scrolled": true
   },
   "outputs": [
    {
     "data": {
      "text/plain": [
       "   Mode   FALSE    TRUE \n",
       "logical       4     896 "
      ]
     },
     "metadata": {},
     "output_type": "display_data"
    },
    {
     "data": {
      "text/plain": [
       "   Mode   FALSE    TRUE \n",
       "logical      63      37 "
      ]
     },
     "metadata": {},
     "output_type": "display_data"
    }
   ],
   "source": [
    "summary(pfdrtest[1:900])\n",
    "summary(pfdrtest[901:1000])"
   ]
  },
  {
   "cell_type": "raw",
   "metadata": {},
   "source": [
    "False positive (Type I error rate) = 4/900 = 0.0044\n",
    "False negative (Type II error rate) = 37/100 = 0.37\n",
    "\n",
    "Same as regular FDR, at least at the 5% level"
   ]
  }
 ],
 "metadata": {
  "kernelspec": {
   "display_name": "R",
   "language": "R",
   "name": "ir"
  },
  "language_info": {
   "codemirror_mode": "r",
   "file_extension": ".r",
   "mimetype": "text/x-r-source",
   "name": "R",
   "pygments_lexer": "r",
   "version": "3.6.1"
  }
 },
 "nbformat": 4,
 "nbformat_minor": 2
}
